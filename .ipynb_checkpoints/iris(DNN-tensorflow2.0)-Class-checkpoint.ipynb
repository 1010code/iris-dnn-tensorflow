{
 "cells": [
  {
   "cell_type": "code",
   "execution_count": 1,
   "metadata": {},
   "outputs": [],
   "source": [
    "import warnings\n",
    "import pandas as pd\n",
    "import numpy as np\n",
    "import matplotlib.pyplot as plt\n",
    "warnings.filterwarnings(\"ignore\")"
   ]
  },
  {
   "cell_type": "markdown",
   "metadata": {},
   "source": [
    "## 1) 載入資料集"
   ]
  },
  {
   "cell_type": "code",
   "execution_count": 2,
   "metadata": {},
   "outputs": [
    {
     "data": {
      "text/html": [
       "<div>\n",
       "<style scoped>\n",
       "    .dataframe tbody tr th:only-of-type {\n",
       "        vertical-align: middle;\n",
       "    }\n",
       "\n",
       "    .dataframe tbody tr th {\n",
       "        vertical-align: top;\n",
       "    }\n",
       "\n",
       "    .dataframe thead th {\n",
       "        text-align: right;\n",
       "    }\n",
       "</style>\n",
       "<table border=\"1\" class=\"dataframe\">\n",
       "  <thead>\n",
       "    <tr style=\"text-align: right;\">\n",
       "      <th></th>\n",
       "      <th>SepalLengthCm</th>\n",
       "      <th>SepalWidthCm</th>\n",
       "      <th>PetalLengthCm</th>\n",
       "      <th>PetalWidthCm</th>\n",
       "      <th>Species</th>\n",
       "    </tr>\n",
       "  </thead>\n",
       "  <tbody>\n",
       "    <tr>\n",
       "      <th>0</th>\n",
       "      <td>5.1</td>\n",
       "      <td>3.5</td>\n",
       "      <td>1.4</td>\n",
       "      <td>0.2</td>\n",
       "      <td>Iris-setosa</td>\n",
       "    </tr>\n",
       "    <tr>\n",
       "      <th>1</th>\n",
       "      <td>4.9</td>\n",
       "      <td>3.0</td>\n",
       "      <td>1.4</td>\n",
       "      <td>0.2</td>\n",
       "      <td>Iris-setosa</td>\n",
       "    </tr>\n",
       "    <tr>\n",
       "      <th>2</th>\n",
       "      <td>4.7</td>\n",
       "      <td>3.2</td>\n",
       "      <td>1.3</td>\n",
       "      <td>0.2</td>\n",
       "      <td>Iris-setosa</td>\n",
       "    </tr>\n",
       "    <tr>\n",
       "      <th>3</th>\n",
       "      <td>4.6</td>\n",
       "      <td>3.1</td>\n",
       "      <td>1.5</td>\n",
       "      <td>0.2</td>\n",
       "      <td>Iris-setosa</td>\n",
       "    </tr>\n",
       "    <tr>\n",
       "      <th>4</th>\n",
       "      <td>5.0</td>\n",
       "      <td>3.6</td>\n",
       "      <td>1.4</td>\n",
       "      <td>0.2</td>\n",
       "      <td>Iris-setosa</td>\n",
       "    </tr>\n",
       "    <tr>\n",
       "      <th>...</th>\n",
       "      <td>...</td>\n",
       "      <td>...</td>\n",
       "      <td>...</td>\n",
       "      <td>...</td>\n",
       "      <td>...</td>\n",
       "    </tr>\n",
       "    <tr>\n",
       "      <th>145</th>\n",
       "      <td>6.7</td>\n",
       "      <td>3.0</td>\n",
       "      <td>5.2</td>\n",
       "      <td>2.3</td>\n",
       "      <td>Iris-virginica</td>\n",
       "    </tr>\n",
       "    <tr>\n",
       "      <th>146</th>\n",
       "      <td>6.3</td>\n",
       "      <td>2.5</td>\n",
       "      <td>5.0</td>\n",
       "      <td>1.9</td>\n",
       "      <td>Iris-virginica</td>\n",
       "    </tr>\n",
       "    <tr>\n",
       "      <th>147</th>\n",
       "      <td>6.5</td>\n",
       "      <td>3.0</td>\n",
       "      <td>5.2</td>\n",
       "      <td>2.0</td>\n",
       "      <td>Iris-virginica</td>\n",
       "    </tr>\n",
       "    <tr>\n",
       "      <th>148</th>\n",
       "      <td>6.2</td>\n",
       "      <td>3.4</td>\n",
       "      <td>5.4</td>\n",
       "      <td>2.3</td>\n",
       "      <td>Iris-virginica</td>\n",
       "    </tr>\n",
       "    <tr>\n",
       "      <th>149</th>\n",
       "      <td>5.9</td>\n",
       "      <td>3.0</td>\n",
       "      <td>5.1</td>\n",
       "      <td>1.8</td>\n",
       "      <td>Iris-virginica</td>\n",
       "    </tr>\n",
       "  </tbody>\n",
       "</table>\n",
       "<p>150 rows × 5 columns</p>\n",
       "</div>"
      ],
      "text/plain": [
       "     SepalLengthCm  SepalWidthCm  PetalLengthCm  PetalWidthCm         Species\n",
       "0              5.1           3.5            1.4           0.2     Iris-setosa\n",
       "1              4.9           3.0            1.4           0.2     Iris-setosa\n",
       "2              4.7           3.2            1.3           0.2     Iris-setosa\n",
       "3              4.6           3.1            1.5           0.2     Iris-setosa\n",
       "4              5.0           3.6            1.4           0.2     Iris-setosa\n",
       "..             ...           ...            ...           ...             ...\n",
       "145            6.7           3.0            5.2           2.3  Iris-virginica\n",
       "146            6.3           2.5            5.0           1.9  Iris-virginica\n",
       "147            6.5           3.0            5.2           2.0  Iris-virginica\n",
       "148            6.2           3.4            5.4           2.3  Iris-virginica\n",
       "149            5.9           3.0            5.1           1.8  Iris-virginica\n",
       "\n",
       "[150 rows x 5 columns]"
      ]
     },
     "execution_count": 2,
     "metadata": {},
     "output_type": "execute_result"
    }
   ],
   "source": [
    "df_train = pd.read_csv('./data/Iris.csv')\n",
    "df_train = df_train.drop(labels=['Id'],axis=1) # 移除Id\n",
    "df_train"
   ]
  },
  {
   "cell_type": "markdown",
   "metadata": {},
   "source": [
    "## 2) 手動編碼\n",
    "處理名目資料 (Nominal variables) - 資料前處理\n",
    "依據特徵資料的特性，可以選擇手動編碼或自動編碼。\n",
    "\n",
    "### 使用編碼時機?\n",
    "進行深度學習時，神經網路只能處理數值資料。因此我們需要將所有非數字型態的特徵進行轉換。\n",
    "\n",
    "ex:\n",
    "\n",
    "|  Iris-setosa |  Iris-versicolor | Iris-virginica  |\n",
    "|:---:|:---:|:---:|\n",
    "|  1 | 2  | 3  |"
   ]
  },
  {
   "cell_type": "code",
   "execution_count": 3,
   "metadata": {},
   "outputs": [],
   "source": [
    "label_map = {'Iris-setosa': 0, 'Iris-versicolor': 1, 'Iris-virginica': 2}\n",
    "\n",
    "#將編碼後的label map存至df_train['Species']中。\n",
    "df_train['Class'] = df_train['Species'].map(label_map)"
   ]
  },
  {
   "cell_type": "code",
   "execution_count": 4,
   "metadata": {},
   "outputs": [
    {
     "data": {
      "text/html": [
       "<div>\n",
       "<style scoped>\n",
       "    .dataframe tbody tr th:only-of-type {\n",
       "        vertical-align: middle;\n",
       "    }\n",
       "\n",
       "    .dataframe tbody tr th {\n",
       "        vertical-align: top;\n",
       "    }\n",
       "\n",
       "    .dataframe thead th {\n",
       "        text-align: right;\n",
       "    }\n",
       "</style>\n",
       "<table border=\"1\" class=\"dataframe\">\n",
       "  <thead>\n",
       "    <tr style=\"text-align: right;\">\n",
       "      <th></th>\n",
       "      <th>SepalLengthCm</th>\n",
       "      <th>SepalWidthCm</th>\n",
       "      <th>PetalLengthCm</th>\n",
       "      <th>PetalWidthCm</th>\n",
       "      <th>Species</th>\n",
       "      <th>Class</th>\n",
       "    </tr>\n",
       "  </thead>\n",
       "  <tbody>\n",
       "    <tr>\n",
       "      <th>0</th>\n",
       "      <td>5.1</td>\n",
       "      <td>3.5</td>\n",
       "      <td>1.4</td>\n",
       "      <td>0.2</td>\n",
       "      <td>Iris-setosa</td>\n",
       "      <td>0</td>\n",
       "    </tr>\n",
       "    <tr>\n",
       "      <th>1</th>\n",
       "      <td>4.9</td>\n",
       "      <td>3.0</td>\n",
       "      <td>1.4</td>\n",
       "      <td>0.2</td>\n",
       "      <td>Iris-setosa</td>\n",
       "      <td>0</td>\n",
       "    </tr>\n",
       "    <tr>\n",
       "      <th>2</th>\n",
       "      <td>4.7</td>\n",
       "      <td>3.2</td>\n",
       "      <td>1.3</td>\n",
       "      <td>0.2</td>\n",
       "      <td>Iris-setosa</td>\n",
       "      <td>0</td>\n",
       "    </tr>\n",
       "    <tr>\n",
       "      <th>3</th>\n",
       "      <td>4.6</td>\n",
       "      <td>3.1</td>\n",
       "      <td>1.5</td>\n",
       "      <td>0.2</td>\n",
       "      <td>Iris-setosa</td>\n",
       "      <td>0</td>\n",
       "    </tr>\n",
       "    <tr>\n",
       "      <th>4</th>\n",
       "      <td>5.0</td>\n",
       "      <td>3.6</td>\n",
       "      <td>1.4</td>\n",
       "      <td>0.2</td>\n",
       "      <td>Iris-setosa</td>\n",
       "      <td>0</td>\n",
       "    </tr>\n",
       "    <tr>\n",
       "      <th>...</th>\n",
       "      <td>...</td>\n",
       "      <td>...</td>\n",
       "      <td>...</td>\n",
       "      <td>...</td>\n",
       "      <td>...</td>\n",
       "      <td>...</td>\n",
       "    </tr>\n",
       "    <tr>\n",
       "      <th>145</th>\n",
       "      <td>6.7</td>\n",
       "      <td>3.0</td>\n",
       "      <td>5.2</td>\n",
       "      <td>2.3</td>\n",
       "      <td>Iris-virginica</td>\n",
       "      <td>2</td>\n",
       "    </tr>\n",
       "    <tr>\n",
       "      <th>146</th>\n",
       "      <td>6.3</td>\n",
       "      <td>2.5</td>\n",
       "      <td>5.0</td>\n",
       "      <td>1.9</td>\n",
       "      <td>Iris-virginica</td>\n",
       "      <td>2</td>\n",
       "    </tr>\n",
       "    <tr>\n",
       "      <th>147</th>\n",
       "      <td>6.5</td>\n",
       "      <td>3.0</td>\n",
       "      <td>5.2</td>\n",
       "      <td>2.0</td>\n",
       "      <td>Iris-virginica</td>\n",
       "      <td>2</td>\n",
       "    </tr>\n",
       "    <tr>\n",
       "      <th>148</th>\n",
       "      <td>6.2</td>\n",
       "      <td>3.4</td>\n",
       "      <td>5.4</td>\n",
       "      <td>2.3</td>\n",
       "      <td>Iris-virginica</td>\n",
       "      <td>2</td>\n",
       "    </tr>\n",
       "    <tr>\n",
       "      <th>149</th>\n",
       "      <td>5.9</td>\n",
       "      <td>3.0</td>\n",
       "      <td>5.1</td>\n",
       "      <td>1.8</td>\n",
       "      <td>Iris-virginica</td>\n",
       "      <td>2</td>\n",
       "    </tr>\n",
       "  </tbody>\n",
       "</table>\n",
       "<p>150 rows × 6 columns</p>\n",
       "</div>"
      ],
      "text/plain": [
       "     SepalLengthCm  SepalWidthCm  PetalLengthCm  PetalWidthCm         Species  \\\n",
       "0              5.1           3.5            1.4           0.2     Iris-setosa   \n",
       "1              4.9           3.0            1.4           0.2     Iris-setosa   \n",
       "2              4.7           3.2            1.3           0.2     Iris-setosa   \n",
       "3              4.6           3.1            1.5           0.2     Iris-setosa   \n",
       "4              5.0           3.6            1.4           0.2     Iris-setosa   \n",
       "..             ...           ...            ...           ...             ...   \n",
       "145            6.7           3.0            5.2           2.3  Iris-virginica   \n",
       "146            6.3           2.5            5.0           1.9  Iris-virginica   \n",
       "147            6.5           3.0            5.2           2.0  Iris-virginica   \n",
       "148            6.2           3.4            5.4           2.3  Iris-virginica   \n",
       "149            5.9           3.0            5.1           1.8  Iris-virginica   \n",
       "\n",
       "     Class  \n",
       "0        0  \n",
       "1        0  \n",
       "2        0  \n",
       "3        0  \n",
       "4        0  \n",
       "..     ...  \n",
       "145      2  \n",
       "146      2  \n",
       "147      2  \n",
       "148      2  \n",
       "149      2  \n",
       "\n",
       "[150 rows x 6 columns]"
      ]
     },
     "execution_count": 4,
     "metadata": {},
     "output_type": "execute_result"
    }
   ],
   "source": [
    "df_train"
   ]
  },
  {
   "cell_type": "markdown",
   "metadata": {},
   "source": [
    "## 3) 檢查缺失值\n",
    "使用 numpy 所提供的函式來檢查是否有 NA 缺失值，假設有缺失值使用dropna()來移除。使用的時機在於當只有少量的缺失值適用，若遇到有大量缺失值的情況，或是本身的資料量就很少的情況下建議可以透過機器學習的方法補值來預測缺失值。\n",
    "\n",
    "```python\n",
    "# 移除缺失值\n",
    "train=train.dropna()\n",
    "```"
   ]
  },
  {
   "cell_type": "code",
   "execution_count": 5,
   "metadata": {},
   "outputs": [
    {
     "name": "stdout",
     "output_type": "stream",
     "text": [
      "checked missing data(NAN mount): 0\n"
     ]
    }
   ],
   "source": [
    "df_train = df_train.drop(labels=['Species'],axis=1) # 移除Species\n",
    "# checked missing data\n",
    "print(\"checked missing data(NAN mount):\",len(np.where(np.isnan(df_train))[0]))"
   ]
  },
  {
   "cell_type": "markdown",
   "metadata": {},
   "source": [
    "## 4) 將輸出特徵做 One-Hot-Encoding\n",
    "如何對欄位class做one-hot encoding？\n",
    "#### class 的值有0,1,2"
   ]
  },
  {
   "cell_type": "code",
   "execution_count": 6,
   "metadata": {},
   "outputs": [
    {
     "data": {
      "text/plain": [
       "array([[1., 0., 0.],\n",
       "       [1., 0., 0.],\n",
       "       [1., 0., 0.],\n",
       "       [1., 0., 0.],\n",
       "       [1., 0., 0.]], dtype=float32)"
      ]
     },
     "execution_count": 6,
     "metadata": {},
     "output_type": "execute_result"
    }
   ],
   "source": [
    "from tensorflow.keras.utils import to_categorical\n",
    "y = to_categorical(df_train['Class'])\n",
    "y[0:5]"
   ]
  },
  {
   "cell_type": "markdown",
   "metadata": {},
   "source": [
    "## 4) 切割訓練集與測試集"
   ]
  },
  {
   "cell_type": "code",
   "execution_count": 7,
   "metadata": {},
   "outputs": [],
   "source": [
    "X=df_train.drop(labels=['Class'],axis=1)"
   ]
  },
  {
   "cell_type": "code",
   "execution_count": 8,
   "metadata": {},
   "outputs": [],
   "source": [
    "from sklearn.model_selection import train_test_split\n",
    "X_train , X_test , y_train , y_test = train_test_split(X,y , test_size=.3 , random_state=40)"
   ]
  },
  {
   "cell_type": "code",
   "execution_count": 9,
   "metadata": {},
   "outputs": [
    {
     "name": "stdout",
     "output_type": "stream",
     "text": [
      "訓練資料:  (105, 4)\n",
      "測試資料:  (45, 4)\n"
     ]
    }
   ],
   "source": [
    "print('訓練資料: ',X_train.shape)\n",
    "print('測試資料: ',X_test.shape)"
   ]
  },
  {
   "cell_type": "markdown",
   "metadata": {},
   "source": [
    "## 5) 建立網路模型"
   ]
  },
  {
   "cell_type": "code",
   "execution_count": 10,
   "metadata": {},
   "outputs": [
    {
     "name": "stdout",
     "output_type": "stream",
     "text": [
      "2.2.0\n"
     ]
    }
   ],
   "source": [
    "import tensorflow as tf\n",
    "from tensorflow import keras\n",
    "from tensorflow.keras import layers\n",
    "from tensorflow.keras.optimizers import Adam\n",
    "\n",
    "print(tf.__version__)"
   ]
  },
  {
   "cell_type": "code",
   "execution_count": 11,
   "metadata": {},
   "outputs": [],
   "source": [
    "# 使用 class 客製化 Models\n",
    "class network(keras.Model):\n",
    "    def __init__(self):\n",
    "        super(network,self).__init__()\n",
    "        self.layer_1 = layers.Dense(8 , activation='relu')\n",
    "        self.layer_2 = layers.Dense(16 , activation='relu')\n",
    "        self.output_layer = layers.Dense(3 , activation='softmax')\n",
    "        \n",
    "    def call(self,x):\n",
    "        x_1 = self.layer_1(x)\n",
    "        x_2 = self.layer_2(x_1)\n",
    "        predict = self.output_layer(x_2)\n",
    "        return predict"
   ]
  },
  {
   "cell_type": "code",
   "execution_count": 12,
   "metadata": {},
   "outputs": [],
   "source": [
    "model = network()"
   ]
  },
  {
   "cell_type": "code",
   "execution_count": 13,
   "metadata": {},
   "outputs": [
    {
     "name": "stdout",
     "output_type": "stream",
     "text": [
      "Epoch 1/50\n",
      "WARNING:tensorflow:Layer network is casting an input tensor from dtype float64 to the layer's dtype of float32, which is new behavior in TensorFlow 2.  The layer has dtype float32 because it's dtype defaults to floatx.\n",
      "\n",
      "If you intended to run this layer in float32, you can safely ignore this warning. If in doubt, this warning is likely only an issue if you are porting a TensorFlow 1.X model to TensorFlow 2.\n",
      "\n",
      "To change all layers to have dtype float64 by default, call `tf.keras.backend.set_floatx('float64')`. To change just this layer, pass dtype='float64' to the layer constructor. If you are the author of this layer, you can disable autocasting by passing autocast=False to the base Layer constructor.\n",
      "\n",
      "94/94 [==============================] - 0s 3ms/step - loss: 1.1109 - acc: 0.4043 - val_loss: 0.9622 - val_acc: 0.3636\n",
      "Epoch 2/50\n",
      "94/94 [==============================] - 0s 931us/step - loss: 0.7366 - acc: 0.6809 - val_loss: 0.8099 - val_acc: 0.4545\n",
      "Epoch 3/50\n",
      "94/94 [==============================] - 0s 934us/step - loss: 0.6490 - acc: 0.7979 - val_loss: 0.7802 - val_acc: 0.6364\n",
      "Epoch 4/50\n",
      "94/94 [==============================] - 0s 934us/step - loss: 0.5371 - acc: 0.8830 - val_loss: 0.6710 - val_acc: 0.6364\n",
      "Epoch 5/50\n",
      "94/94 [==============================] - 0s 924us/step - loss: 0.4150 - acc: 0.8617 - val_loss: 0.4699 - val_acc: 0.7273\n",
      "Epoch 6/50\n",
      "94/94 [==============================] - 0s 953us/step - loss: 0.3509 - acc: 0.9255 - val_loss: 0.4112 - val_acc: 0.8182\n",
      "Epoch 7/50\n",
      "94/94 [==============================] - 0s 2ms/step - loss: 0.3040 - acc: 0.9574 - val_loss: 0.4579 - val_acc: 0.7273\n",
      "Epoch 8/50\n",
      "94/94 [==============================] - 0s 925us/step - loss: 0.2825 - acc: 0.9362 - val_loss: 0.3531 - val_acc: 0.8182\n",
      "Epoch 9/50\n",
      "94/94 [==============================] - 0s 927us/step - loss: 0.2599 - acc: 0.9255 - val_loss: 0.2866 - val_acc: 1.0000\n",
      "Epoch 10/50\n",
      "94/94 [==============================] - 0s 931us/step - loss: 0.2585 - acc: 0.9149 - val_loss: 0.2254 - val_acc: 1.0000\n",
      "Epoch 11/50\n",
      "94/94 [==============================] - 0s 923us/step - loss: 0.2199 - acc: 0.9574 - val_loss: 0.2104 - val_acc: 1.0000\n",
      "Epoch 12/50\n",
      "94/94 [==============================] - 0s 932us/step - loss: 0.2055 - acc: 0.9468 - val_loss: 0.4141 - val_acc: 0.7273\n",
      "Epoch 13/50\n",
      "94/94 [==============================] - 0s 934us/step - loss: 0.2006 - acc: 0.9468 - val_loss: 0.2193 - val_acc: 1.0000\n",
      "Epoch 14/50\n",
      "94/94 [==============================] - 0s 924us/step - loss: 0.1878 - acc: 0.9574 - val_loss: 0.2176 - val_acc: 1.0000\n",
      "Epoch 15/50\n",
      "94/94 [==============================] - 0s 958us/step - loss: 0.1687 - acc: 0.9681 - val_loss: 0.2924 - val_acc: 0.7273\n",
      "Epoch 16/50\n",
      "94/94 [==============================] - 0s 930us/step - loss: 0.1892 - acc: 0.9255 - val_loss: 0.1959 - val_acc: 1.0000\n",
      "Epoch 17/50\n",
      "94/94 [==============================] - 0s 1ms/step - loss: 0.1646 - acc: 0.9362 - val_loss: 0.2056 - val_acc: 1.0000\n",
      "Epoch 18/50\n",
      "94/94 [==============================] - 0s 938us/step - loss: 0.1629 - acc: 0.9787 - val_loss: 0.1996 - val_acc: 1.0000\n",
      "Epoch 19/50\n",
      "94/94 [==============================] - 0s 913us/step - loss: 0.1550 - acc: 0.9681 - val_loss: 0.2880 - val_acc: 0.7273\n",
      "Epoch 20/50\n",
      "94/94 [==============================] - 0s 926us/step - loss: 0.1566 - acc: 0.9468 - val_loss: 0.2172 - val_acc: 0.9091\n",
      "Epoch 21/50\n",
      "94/94 [==============================] - 0s 954us/step - loss: 0.1437 - acc: 0.9681 - val_loss: 0.1974 - val_acc: 0.9091\n",
      "Epoch 22/50\n",
      "94/94 [==============================] - 0s 923us/step - loss: 0.1378 - acc: 0.9574 - val_loss: 0.0600 - val_acc: 1.0000\n",
      "Epoch 23/50\n",
      "94/94 [==============================] - 0s 960us/step - loss: 0.1556 - acc: 0.9255 - val_loss: 0.1978 - val_acc: 0.9091\n",
      "Epoch 24/50\n",
      "94/94 [==============================] - 0s 929us/step - loss: 0.1289 - acc: 0.9787 - val_loss: 0.1439 - val_acc: 1.0000\n",
      "Epoch 25/50\n",
      "94/94 [==============================] - 0s 931us/step - loss: 0.1360 - acc: 0.9468 - val_loss: 0.1036 - val_acc: 1.0000\n",
      "Epoch 26/50\n",
      "94/94 [==============================] - 0s 930us/step - loss: 0.1270 - acc: 0.9787 - val_loss: 0.1146 - val_acc: 1.0000\n",
      "Epoch 27/50\n",
      "94/94 [==============================] - 0s 918us/step - loss: 0.1245 - acc: 0.9681 - val_loss: 0.1539 - val_acc: 1.0000\n",
      "Epoch 28/50\n",
      "94/94 [==============================] - 0s 925us/step - loss: 0.1252 - acc: 0.9681 - val_loss: 0.1224 - val_acc: 1.0000\n",
      "Epoch 29/50\n",
      "94/94 [==============================] - 0s 923us/step - loss: 0.1398 - acc: 0.9468 - val_loss: 0.0678 - val_acc: 1.0000\n",
      "Epoch 30/50\n",
      "94/94 [==============================] - 0s 928us/step - loss: 0.1287 - acc: 0.9681 - val_loss: 0.1045 - val_acc: 1.0000\n",
      "Epoch 31/50\n",
      "94/94 [==============================] - 0s 919us/step - loss: 0.1188 - acc: 0.9681 - val_loss: 0.1001 - val_acc: 1.0000\n",
      "Epoch 32/50\n",
      "94/94 [==============================] - 0s 973us/step - loss: 0.1193 - acc: 0.9468 - val_loss: 0.0931 - val_acc: 1.0000\n",
      "Epoch 33/50\n",
      "94/94 [==============================] - 0s 920us/step - loss: 0.1142 - acc: 0.9681 - val_loss: 0.0807 - val_acc: 1.0000\n",
      "Epoch 34/50\n",
      "94/94 [==============================] - 0s 920us/step - loss: 0.1189 - acc: 0.9681 - val_loss: 0.0413 - val_acc: 1.0000\n",
      "Epoch 35/50\n",
      "94/94 [==============================] - 0s 927us/step - loss: 0.1072 - acc: 0.9681 - val_loss: 0.1601 - val_acc: 0.9091\n",
      "Epoch 36/50\n",
      "94/94 [==============================] - 0s 925us/step - loss: 0.1112 - acc: 0.9681 - val_loss: 0.1209 - val_acc: 1.0000\n",
      "Epoch 37/50\n",
      "94/94 [==============================] - 0s 926us/step - loss: 0.1084 - acc: 0.9681 - val_loss: 0.1662 - val_acc: 0.9091\n",
      "Epoch 38/50\n",
      "94/94 [==============================] - 0s 930us/step - loss: 0.1045 - acc: 0.9787 - val_loss: 0.1099 - val_acc: 1.0000\n",
      "Epoch 39/50\n",
      "94/94 [==============================] - 0s 932us/step - loss: 0.1134 - acc: 0.9787 - val_loss: 0.2531 - val_acc: 0.9091\n",
      "Epoch 40/50\n",
      "94/94 [==============================] - 0s 958us/step - loss: 0.1171 - acc: 0.9787 - val_loss: 0.1129 - val_acc: 1.0000\n",
      "Epoch 41/50\n",
      "94/94 [==============================] - 0s 955us/step - loss: 0.1036 - acc: 0.9787 - val_loss: 0.1275 - val_acc: 0.9091\n",
      "Epoch 42/50\n",
      "94/94 [==============================] - 0s 1ms/step - loss: 0.0959 - acc: 0.9681 - val_loss: 0.0547 - val_acc: 1.0000\n",
      "Epoch 43/50\n",
      "94/94 [==============================] - 0s 916us/step - loss: 0.0993 - acc: 0.9787 - val_loss: 0.1301 - val_acc: 0.9091\n",
      "Epoch 44/50\n",
      "94/94 [==============================] - 0s 930us/step - loss: 0.1027 - acc: 0.9681 - val_loss: 0.0695 - val_acc: 1.0000\n",
      "Epoch 45/50\n",
      "94/94 [==============================] - 0s 923us/step - loss: 0.1162 - acc: 0.9681 - val_loss: 0.0757 - val_acc: 1.0000\n",
      "Epoch 46/50\n",
      "94/94 [==============================] - 0s 926us/step - loss: 0.1046 - acc: 0.9787 - val_loss: 0.0623 - val_acc: 1.0000\n",
      "Epoch 47/50\n",
      "94/94 [==============================] - 0s 929us/step - loss: 0.0968 - acc: 0.9574 - val_loss: 0.2236 - val_acc: 0.9091\n",
      "Epoch 48/50\n",
      "94/94 [==============================] - 0s 931us/step - loss: 0.1012 - acc: 0.9681 - val_loss: 0.0775 - val_acc: 1.0000\n",
      "Epoch 49/50\n",
      "94/94 [==============================] - 0s 929us/step - loss: 0.1104 - acc: 0.9681 - val_loss: 0.0423 - val_acc: 1.0000\n",
      "Epoch 50/50\n",
      "94/94 [==============================] - 0s 919us/step - loss: 0.0972 - acc: 0.9787 - val_loss: 0.1264 - val_acc: 0.9091\n"
     ]
    }
   ],
   "source": [
    "# 編譯模型\n",
    "optim = Adam(lr=0.001)\n",
    "model.compile(loss='categorical_crossentropy',\n",
    "              optimizer=optim,\n",
    "              metrics=['acc'])\n",
    "\n",
    "batch_size=1\n",
    "epochs = 50\n",
    "\n",
    "# 訓練模型\n",
    "history = model.fit(X_train, y_train,\n",
    "                    batch_size=batch_size,\n",
    "                    epochs=epochs,\n",
    "                    verbose=1,\n",
    "                    shuffle=True,\n",
    "                    validation_split=0.1)\n"
   ]
  },
  {
   "cell_type": "markdown",
   "metadata": {},
   "source": [
    "## 6) 觀察訓練結果"
   ]
  },
  {
   "cell_type": "code",
   "execution_count": 131,
   "metadata": {},
   "outputs": [],
   "source": [
    "import matplotlib.pyplot as plt\n",
    "\n",
    "history_dict = history.history\n",
    "history_dict.keys()\n",
    "acc = history_dict['acc']\n",
    "val_acc = history_dict['val_acc']\n",
    "loss = history_dict['loss']\n",
    "val_loss = history_dict['val_loss']\n",
    "epochs_ = range(1,len(acc)+1)"
   ]
  },
  {
   "cell_type": "code",
   "execution_count": 132,
   "metadata": {},
   "outputs": [
    {
     "data": {
      "image/png": "[encoded data removed]",
      "text/plain": [
       "<Figure size 432x288 with 1 Axes>"
      ]
     },
     "metadata": {
      "needs_background": "light"
     },
     "output_type": "display_data"
    }
   ],
   "source": [
    "plt.plot(epochs_ , loss , label = 'training loss')\n",
    "plt.plot(epochs_ , val_loss , label = 'val los')\n",
    "plt.title('training and val loss')\n",
    "plt.xlabel('epochs')\n",
    "plt.ylabel('loss')\n",
    "plt.legend()\n",
    "plt.show()"
   ]
  },
  {
   "cell_type": "code",
   "execution_count": 133,
   "metadata": {},
   "outputs": [
    {
     "data": {
      "image/png": "[encoded data removed]",
      "text/plain": [
       "<Figure size 432x288 with 1 Axes>"
      ]
     },
     "metadata": {
      "needs_background": "light"
     },
     "output_type": "display_data"
    }
   ],
   "source": [
    "plt.clf()\n",
    "plt.plot(epochs_ , acc , label='train accuracy')\n",
    "plt.plot(epochs_ , val_acc , label = 'val accuracy')\n",
    "plt.title('train and val acc')\n",
    "plt.xlabel('epochs')\n",
    "plt.ylabel('acc')\n",
    "plt.legend()\n",
    "plt.show()"
   ]
  },
  {
   "cell_type": "markdown",
   "metadata": {},
   "source": [
    "## 測試"
   ]
  },
  {
   "cell_type": "code",
   "execution_count": 135,
   "metadata": {},
   "outputs": [
    {
     "name": "stdout",
     "output_type": "stream",
     "text": [
      "0.9666666666666667\n"
     ]
    }
   ],
   "source": [
    "from sklearn.metrics import accuracy_score\n",
    "label=np.argmax(y,axis=1)\n",
    "pred =  np.argmax(model.predict(X), axis=1)\n",
    "print(accuracy_score(label, pred))"
   ]
  },
  {
   "cell_type": "code",
   "execution_count": null,
   "metadata": {},
   "outputs": [],
   "source": []
  }
 ],
 "metadata": {
  "kernelspec": {
   "display_name": "Python 3",
   "language": "python",
   "name": "python3"
  },
  "language_info": {
   "codemirror_mode": {
    "name": "ipython",
    "version": 3
   },
   "file_extension": ".py",
   "mimetype": "text/x-python",
   "name": "python",
   "nbconvert_exporter": "python",
   "pygments_lexer": "ipython3",
   "version": "3.7.3"
  }
 },
 "nbformat": 4,
 "nbformat_minor": 4
}
