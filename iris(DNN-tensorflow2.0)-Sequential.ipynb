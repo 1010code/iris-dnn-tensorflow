{
 "cells": [
  {
   "cell_type": "code",
   "execution_count": 1,
   "metadata": {},
   "outputs": [],
   "source": [
    "import warnings\n",
    "import pandas as pd\n",
    "import numpy as np\n",
    "import matplotlib.pyplot as plt\n",
    "warnings.filterwarnings(\"ignore\")"
   ]
  },
  {
   "cell_type": "markdown",
   "metadata": {},
   "source": [
    "## 1) 載入資料集"
   ]
  },
  {
   "cell_type": "code",
   "execution_count": 2,
   "metadata": {},
   "outputs": [
    {
     "data": {
      "text/html": [
       "<div>\n",
       "<style scoped>\n",
       "    .dataframe tbody tr th:only-of-type {\n",
       "        vertical-align: middle;\n",
       "    }\n",
       "\n",
       "    .dataframe tbody tr th {\n",
       "        vertical-align: top;\n",
       "    }\n",
       "\n",
       "    .dataframe thead th {\n",
       "        text-align: right;\n",
       "    }\n",
       "</style>\n",
       "<table border=\"1\" class=\"dataframe\">\n",
       "  <thead>\n",
       "    <tr style=\"text-align: right;\">\n",
       "      <th></th>\n",
       "      <th>SepalLengthCm</th>\n",
       "      <th>SepalWidthCm</th>\n",
       "      <th>PetalLengthCm</th>\n",
       "      <th>PetalWidthCm</th>\n",
       "      <th>Species</th>\n",
       "    </tr>\n",
       "  </thead>\n",
       "  <tbody>\n",
       "    <tr>\n",
       "      <th>0</th>\n",
       "      <td>5.1</td>\n",
       "      <td>3.5</td>\n",
       "      <td>1.4</td>\n",
       "      <td>0.2</td>\n",
       "      <td>Iris-setosa</td>\n",
       "    </tr>\n",
       "    <tr>\n",
       "      <th>1</th>\n",
       "      <td>4.9</td>\n",
       "      <td>3.0</td>\n",
       "      <td>1.4</td>\n",
       "      <td>0.2</td>\n",
       "      <td>Iris-setosa</td>\n",
       "    </tr>\n",
       "    <tr>\n",
       "      <th>2</th>\n",
       "      <td>4.7</td>\n",
       "      <td>3.2</td>\n",
       "      <td>1.3</td>\n",
       "      <td>0.2</td>\n",
       "      <td>Iris-setosa</td>\n",
       "    </tr>\n",
       "    <tr>\n",
       "      <th>3</th>\n",
       "      <td>4.6</td>\n",
       "      <td>3.1</td>\n",
       "      <td>1.5</td>\n",
       "      <td>0.2</td>\n",
       "      <td>Iris-setosa</td>\n",
       "    </tr>\n",
       "    <tr>\n",
       "      <th>4</th>\n",
       "      <td>5.0</td>\n",
       "      <td>3.6</td>\n",
       "      <td>1.4</td>\n",
       "      <td>0.2</td>\n",
       "      <td>Iris-setosa</td>\n",
       "    </tr>\n",
       "    <tr>\n",
       "      <th>...</th>\n",
       "      <td>...</td>\n",
       "      <td>...</td>\n",
       "      <td>...</td>\n",
       "      <td>...</td>\n",
       "      <td>...</td>\n",
       "    </tr>\n",
       "    <tr>\n",
       "      <th>145</th>\n",
       "      <td>6.7</td>\n",
       "      <td>3.0</td>\n",
       "      <td>5.2</td>\n",
       "      <td>2.3</td>\n",
       "      <td>Iris-virginica</td>\n",
       "    </tr>\n",
       "    <tr>\n",
       "      <th>146</th>\n",
       "      <td>6.3</td>\n",
       "      <td>2.5</td>\n",
       "      <td>5.0</td>\n",
       "      <td>1.9</td>\n",
       "      <td>Iris-virginica</td>\n",
       "    </tr>\n",
       "    <tr>\n",
       "      <th>147</th>\n",
       "      <td>6.5</td>\n",
       "      <td>3.0</td>\n",
       "      <td>5.2</td>\n",
       "      <td>2.0</td>\n",
       "      <td>Iris-virginica</td>\n",
       "    </tr>\n",
       "    <tr>\n",
       "      <th>148</th>\n",
       "      <td>6.2</td>\n",
       "      <td>3.4</td>\n",
       "      <td>5.4</td>\n",
       "      <td>2.3</td>\n",
       "      <td>Iris-virginica</td>\n",
       "    </tr>\n",
       "    <tr>\n",
       "      <th>149</th>\n",
       "      <td>5.9</td>\n",
       "      <td>3.0</td>\n",
       "      <td>5.1</td>\n",
       "      <td>1.8</td>\n",
       "      <td>Iris-virginica</td>\n",
       "    </tr>\n",
       "  </tbody>\n",
       "</table>\n",
       "<p>150 rows × 5 columns</p>\n",
       "</div>"
      ],
      "text/plain": [
       "     SepalLengthCm  SepalWidthCm  PetalLengthCm  PetalWidthCm         Species\n",
       "0              5.1           3.5            1.4           0.2     Iris-setosa\n",
       "1              4.9           3.0            1.4           0.2     Iris-setosa\n",
       "2              4.7           3.2            1.3           0.2     Iris-setosa\n",
       "3              4.6           3.1            1.5           0.2     Iris-setosa\n",
       "4              5.0           3.6            1.4           0.2     Iris-setosa\n",
       "..             ...           ...            ...           ...             ...\n",
       "145            6.7           3.0            5.2           2.3  Iris-virginica\n",
       "146            6.3           2.5            5.0           1.9  Iris-virginica\n",
       "147            6.5           3.0            5.2           2.0  Iris-virginica\n",
       "148            6.2           3.4            5.4           2.3  Iris-virginica\n",
       "149            5.9           3.0            5.1           1.8  Iris-virginica\n",
       "\n",
       "[150 rows x 5 columns]"
      ]
     },
     "execution_count": 2,
     "metadata": {},
     "output_type": "execute_result"
    }
   ],
   "source": [
    "df_train = pd.read_csv('./data/Iris.csv')\n",
    "df_train = df_train.drop(labels=['Id'],axis=1) # 移除Id\n",
    "df_train"
   ]
  },
  {
   "cell_type": "markdown",
   "metadata": {},
   "source": [
    "## 2) 手動編碼\n",
    "處理名目資料 (Nominal variables) - 資料前處理\n",
    "依據特徵資料的特性，可以選擇手動編碼或自動編碼。\n",
    "\n",
    "### 使用編碼時機?\n",
    "進行深度學習時，神經網路只能處理數值資料。因此我們需要將所有非數字型態的特徵進行轉換。\n",
    "\n",
    "ex:\n",
    "\n",
    "|  Iris-setosa |  Iris-versicolor | Iris-virginica  |\n",
    "|:---:|:---:|:---:|\n",
    "|  1 | 2  | 3  |"
   ]
  },
  {
   "cell_type": "code",
   "execution_count": 3,
   "metadata": {},
   "outputs": [],
   "source": [
    "label_map = {'Iris-setosa': 0, 'Iris-versicolor': 1, 'Iris-virginica': 2}\n",
    "\n",
    "#將編碼後的label map存至df_train['Species']中。\n",
    "df_train['Class'] = df_train['Species'].map(label_map)"
   ]
  },
  {
   "cell_type": "code",
   "execution_count": 4,
   "metadata": {},
   "outputs": [
    {
     "data": {
      "text/html": [
       "<div>\n",
       "<style scoped>\n",
       "    .dataframe tbody tr th:only-of-type {\n",
       "        vertical-align: middle;\n",
       "    }\n",
       "\n",
       "    .dataframe tbody tr th {\n",
       "        vertical-align: top;\n",
       "    }\n",
       "\n",
       "    .dataframe thead th {\n",
       "        text-align: right;\n",
       "    }\n",
       "</style>\n",
       "<table border=\"1\" class=\"dataframe\">\n",
       "  <thead>\n",
       "    <tr style=\"text-align: right;\">\n",
       "      <th></th>\n",
       "      <th>SepalLengthCm</th>\n",
       "      <th>SepalWidthCm</th>\n",
       "      <th>PetalLengthCm</th>\n",
       "      <th>PetalWidthCm</th>\n",
       "      <th>Species</th>\n",
       "      <th>Class</th>\n",
       "    </tr>\n",
       "  </thead>\n",
       "  <tbody>\n",
       "    <tr>\n",
       "      <th>0</th>\n",
       "      <td>5.1</td>\n",
       "      <td>3.5</td>\n",
       "      <td>1.4</td>\n",
       "      <td>0.2</td>\n",
       "      <td>Iris-setosa</td>\n",
       "      <td>0</td>\n",
       "    </tr>\n",
       "    <tr>\n",
       "      <th>1</th>\n",
       "      <td>4.9</td>\n",
       "      <td>3.0</td>\n",
       "      <td>1.4</td>\n",
       "      <td>0.2</td>\n",
       "      <td>Iris-setosa</td>\n",
       "      <td>0</td>\n",
       "    </tr>\n",
       "    <tr>\n",
       "      <th>2</th>\n",
       "      <td>4.7</td>\n",
       "      <td>3.2</td>\n",
       "      <td>1.3</td>\n",
       "      <td>0.2</td>\n",
       "      <td>Iris-setosa</td>\n",
       "      <td>0</td>\n",
       "    </tr>\n",
       "    <tr>\n",
       "      <th>3</th>\n",
       "      <td>4.6</td>\n",
       "      <td>3.1</td>\n",
       "      <td>1.5</td>\n",
       "      <td>0.2</td>\n",
       "      <td>Iris-setosa</td>\n",
       "      <td>0</td>\n",
       "    </tr>\n",
       "    <tr>\n",
       "      <th>4</th>\n",
       "      <td>5.0</td>\n",
       "      <td>3.6</td>\n",
       "      <td>1.4</td>\n",
       "      <td>0.2</td>\n",
       "      <td>Iris-setosa</td>\n",
       "      <td>0</td>\n",
       "    </tr>\n",
       "    <tr>\n",
       "      <th>...</th>\n",
       "      <td>...</td>\n",
       "      <td>...</td>\n",
       "      <td>...</td>\n",
       "      <td>...</td>\n",
       "      <td>...</td>\n",
       "      <td>...</td>\n",
       "    </tr>\n",
       "    <tr>\n",
       "      <th>145</th>\n",
       "      <td>6.7</td>\n",
       "      <td>3.0</td>\n",
       "      <td>5.2</td>\n",
       "      <td>2.3</td>\n",
       "      <td>Iris-virginica</td>\n",
       "      <td>2</td>\n",
       "    </tr>\n",
       "    <tr>\n",
       "      <th>146</th>\n",
       "      <td>6.3</td>\n",
       "      <td>2.5</td>\n",
       "      <td>5.0</td>\n",
       "      <td>1.9</td>\n",
       "      <td>Iris-virginica</td>\n",
       "      <td>2</td>\n",
       "    </tr>\n",
       "    <tr>\n",
       "      <th>147</th>\n",
       "      <td>6.5</td>\n",
       "      <td>3.0</td>\n",
       "      <td>5.2</td>\n",
       "      <td>2.0</td>\n",
       "      <td>Iris-virginica</td>\n",
       "      <td>2</td>\n",
       "    </tr>\n",
       "    <tr>\n",
       "      <th>148</th>\n",
       "      <td>6.2</td>\n",
       "      <td>3.4</td>\n",
       "      <td>5.4</td>\n",
       "      <td>2.3</td>\n",
       "      <td>Iris-virginica</td>\n",
       "      <td>2</td>\n",
       "    </tr>\n",
       "    <tr>\n",
       "      <th>149</th>\n",
       "      <td>5.9</td>\n",
       "      <td>3.0</td>\n",
       "      <td>5.1</td>\n",
       "      <td>1.8</td>\n",
       "      <td>Iris-virginica</td>\n",
       "      <td>2</td>\n",
       "    </tr>\n",
       "  </tbody>\n",
       "</table>\n",
       "<p>150 rows × 6 columns</p>\n",
       "</div>"
      ],
      "text/plain": [
       "     SepalLengthCm  SepalWidthCm  PetalLengthCm  PetalWidthCm         Species  \\\n",
       "0              5.1           3.5            1.4           0.2     Iris-setosa   \n",
       "1              4.9           3.0            1.4           0.2     Iris-setosa   \n",
       "2              4.7           3.2            1.3           0.2     Iris-setosa   \n",
       "3              4.6           3.1            1.5           0.2     Iris-setosa   \n",
       "4              5.0           3.6            1.4           0.2     Iris-setosa   \n",
       "..             ...           ...            ...           ...             ...   \n",
       "145            6.7           3.0            5.2           2.3  Iris-virginica   \n",
       "146            6.3           2.5            5.0           1.9  Iris-virginica   \n",
       "147            6.5           3.0            5.2           2.0  Iris-virginica   \n",
       "148            6.2           3.4            5.4           2.3  Iris-virginica   \n",
       "149            5.9           3.0            5.1           1.8  Iris-virginica   \n",
       "\n",
       "     Class  \n",
       "0        0  \n",
       "1        0  \n",
       "2        0  \n",
       "3        0  \n",
       "4        0  \n",
       "..     ...  \n",
       "145      2  \n",
       "146      2  \n",
       "147      2  \n",
       "148      2  \n",
       "149      2  \n",
       "\n",
       "[150 rows x 6 columns]"
      ]
     },
     "execution_count": 4,
     "metadata": {},
     "output_type": "execute_result"
    }
   ],
   "source": [
    "df_train"
   ]
  },
  {
   "cell_type": "markdown",
   "metadata": {},
   "source": [
    "## 3) 檢查缺失值\n",
    "使用 numpy 所提供的函式來檢查是否有 NA 缺失值，假設有缺失值使用dropna()來移除。使用的時機在於當只有少量的缺失值適用，若遇到有大量缺失值的情況，或是本身的資料量就很少的情況下建議可以透過機器學習的方法補值來預測缺失值。\n",
    "\n",
    "```python\n",
    "# 移除缺失值\n",
    "train=train.dropna()\n",
    "```"
   ]
  },
  {
   "cell_type": "code",
   "execution_count": 5,
   "metadata": {},
   "outputs": [
    {
     "name": "stdout",
     "output_type": "stream",
     "text": [
      "checked missing data(NAN mount): 0\n"
     ]
    }
   ],
   "source": [
    "df_train = df_train.drop(labels=['Species'],axis=1) # 移除Species\n",
    "# checked missing data\n",
    "print(\"checked missing data(NAN mount):\",len(np.where(np.isnan(df_train))[0]))"
   ]
  },
  {
   "cell_type": "markdown",
   "metadata": {},
   "source": [
    "## 4) 將輸出特徵做one-hot encoding\n",
    "如何對欄位class做one-hot encoding？\n",
    "#### class 的值有0,1,2"
   ]
  },
  {
   "cell_type": "code",
   "execution_count": 6,
   "metadata": {},
   "outputs": [
    {
     "data": {
      "text/plain": [
       "array([[1., 0., 0.],\n",
       "       [1., 0., 0.],\n",
       "       [1., 0., 0.],\n",
       "       [1., 0., 0.],\n",
       "       [1., 0., 0.]], dtype=float32)"
      ]
     },
     "execution_count": 6,
     "metadata": {},
     "output_type": "execute_result"
    }
   ],
   "source": [
    "from tensorflow.keras.utils import to_categorical\n",
    "y = to_categorical(df_train['Class'])\n",
    "y[0:5]"
   ]
  },
  {
   "cell_type": "markdown",
   "metadata": {},
   "source": [
    "## 4) 切割訓練集與測試集"
   ]
  },
  {
   "cell_type": "code",
   "execution_count": 7,
   "metadata": {},
   "outputs": [],
   "source": [
    "X=df_train.drop(labels=['Class'],axis=1)"
   ]
  },
  {
   "cell_type": "code",
   "execution_count": 8,
   "metadata": {},
   "outputs": [],
   "source": [
    "from sklearn.model_selection import train_test_split\n",
    "X_train , X_test , y_train , y_test = train_test_split(X,y , test_size=.3 , random_state=40)"
   ]
  },
  {
   "cell_type": "code",
   "execution_count": 9,
   "metadata": {},
   "outputs": [
    {
     "name": "stdout",
     "output_type": "stream",
     "text": [
      "訓練資料:  (105, 4)\n",
      "測試資料:  (45, 4)\n"
     ]
    }
   ],
   "source": [
    "print('訓練資料: ',X_train.shape)\n",
    "print('測試資料: ',X_test.shape)"
   ]
  },
  {
   "cell_type": "markdown",
   "metadata": {},
   "source": [
    "## 5) 建立網路模型"
   ]
  },
  {
   "cell_type": "code",
   "execution_count": 10,
   "metadata": {},
   "outputs": [
    {
     "name": "stdout",
     "output_type": "stream",
     "text": [
      "2.2.0\n"
     ]
    }
   ],
   "source": [
    "import tensorflow as tf\n",
    "from tensorflow.keras.layers import Dense, Activation\n",
    "from tensorflow.keras import Sequential\n",
    "from tensorflow.keras.optimizers import Adam\n",
    "\n",
    "print(tf.__version__)"
   ]
  },
  {
   "cell_type": "code",
   "execution_count": 11,
   "metadata": {},
   "outputs": [],
   "source": [
    "# 此範例使用 Tensorflow2.0 Sequential API 搭建神經網路。\n",
    "model = Sequential()\n",
    "model.add(Dense(8, Activation('relu'), input_dim=X.shape[-1]))\n",
    "model.add(Dense(16, Activation('relu')))\n",
    "model.add(Dense(3, Activation('softmax')))"
   ]
  },
  {
   "cell_type": "code",
   "execution_count": 12,
   "metadata": {},
   "outputs": [
    {
     "name": "stdout",
     "output_type": "stream",
     "text": [
      "Model: \"sequential\"\n",
      "_________________________________________________________________\n",
      "Layer (type)                 Output Shape              Param #   \n",
      "=================================================================\n",
      "dense (Dense)                (None, 8)                 40        \n",
      "_________________________________________________________________\n",
      "dense_1 (Dense)              (None, 16)                144       \n",
      "_________________________________________________________________\n",
      "dense_2 (Dense)              (None, 3)                 51        \n",
      "=================================================================\n",
      "Total params: 235\n",
      "Trainable params: 235\n",
      "Non-trainable params: 0\n",
      "_________________________________________________________________\n"
     ]
    }
   ],
   "source": [
    "model.summary()   # Weights = (4+1)*8+(8+1)*16+(16+1)*3"
   ]
  },
  {
   "cell_type": "code",
   "execution_count": 13,
   "metadata": {},
   "outputs": [
    {
     "name": "stdout",
     "output_type": "stream",
     "text": [
      "Epoch 1/50\n",
      "94/94 [==============================] - 0s 4ms/step - loss: 1.0565 - acc: 0.2340 - val_loss: 1.0322 - val_acc: 0.5455\n",
      "Epoch 2/50\n",
      "94/94 [==============================] - 0s 934us/step - loss: 0.9374 - acc: 0.5745 - val_loss: 0.9099 - val_acc: 0.3636\n",
      "Epoch 3/50\n",
      "94/94 [==============================] - 0s 940us/step - loss: 0.7849 - acc: 0.5213 - val_loss: 0.8373 - val_acc: 0.3636\n",
      "Epoch 4/50\n",
      "94/94 [==============================] - 0s 936us/step - loss: 0.6991 - acc: 0.6809 - val_loss: 0.7720 - val_acc: 0.3636\n",
      "Epoch 5/50\n",
      "94/94 [==============================] - 0s 931us/step - loss: 0.6222 - acc: 0.7234 - val_loss: 0.7522 - val_acc: 0.3636\n",
      "Epoch 6/50\n",
      "94/94 [==============================] - 0s 938us/step - loss: 0.5766 - acc: 0.6915 - val_loss: 0.6718 - val_acc: 0.4545\n",
      "Epoch 7/50\n",
      "94/94 [==============================] - 0s 961us/step - loss: 0.5267 - acc: 0.7553 - val_loss: 0.6262 - val_acc: 0.6364\n",
      "Epoch 8/50\n",
      "94/94 [==============================] - 0s 925us/step - loss: 0.4888 - acc: 0.8298 - val_loss: 0.5683 - val_acc: 0.6364\n",
      "Epoch 9/50\n",
      "94/94 [==============================] - 0s 929us/step - loss: 0.4578 - acc: 0.8404 - val_loss: 0.5223 - val_acc: 0.7273\n",
      "Epoch 10/50\n",
      "94/94 [==============================] - 0s 934us/step - loss: 0.4241 - acc: 0.9043 - val_loss: 0.5787 - val_acc: 0.6364\n",
      "Epoch 11/50\n",
      "94/94 [==============================] - 0s 938us/step - loss: 0.4004 - acc: 0.8936 - val_loss: 0.5700 - val_acc: 0.6364\n",
      "Epoch 12/50\n",
      "94/94 [==============================] - 0s 927us/step - loss: 0.3768 - acc: 0.8723 - val_loss: 0.4468 - val_acc: 0.8182\n",
      "Epoch 13/50\n",
      "94/94 [==============================] - 0s 931us/step - loss: 0.3619 - acc: 0.9149 - val_loss: 0.4284 - val_acc: 0.8182\n",
      "Epoch 14/50\n",
      "94/94 [==============================] - 0s 931us/step - loss: 0.3473 - acc: 0.9149 - val_loss: 0.4880 - val_acc: 0.6364\n",
      "Epoch 15/50\n",
      "94/94 [==============================] - 0s 975us/step - loss: 0.3227 - acc: 0.9362 - val_loss: 0.4811 - val_acc: 0.6364\n",
      "Epoch 16/50\n",
      "94/94 [==============================] - 0s 925us/step - loss: 0.3074 - acc: 0.8830 - val_loss: 0.5395 - val_acc: 0.6364\n",
      "Epoch 17/50\n",
      "94/94 [==============================] - 0s 930us/step - loss: 0.2932 - acc: 0.9468 - val_loss: 0.4627 - val_acc: 0.6364\n",
      "Epoch 18/50\n",
      "94/94 [==============================] - 0s 937us/step - loss: 0.2832 - acc: 0.9468 - val_loss: 0.5657 - val_acc: 0.6364\n",
      "Epoch 19/50\n",
      "94/94 [==============================] - 0s 930us/step - loss: 0.2740 - acc: 0.9362 - val_loss: 0.3420 - val_acc: 0.8182\n",
      "Epoch 20/50\n",
      "94/94 [==============================] - 0s 928us/step - loss: 0.2502 - acc: 0.9574 - val_loss: 0.4433 - val_acc: 0.6364\n",
      "Epoch 21/50\n",
      "94/94 [==============================] - 0s 943us/step - loss: 0.2458 - acc: 0.9681 - val_loss: 0.2549 - val_acc: 0.9091\n",
      "Epoch 22/50\n",
      "94/94 [==============================] - 0s 933us/step - loss: 0.2359 - acc: 0.9468 - val_loss: 0.4017 - val_acc: 0.7273\n",
      "Epoch 23/50\n",
      "94/94 [==============================] - 0s 922us/step - loss: 0.2222 - acc: 0.9574 - val_loss: 0.2641 - val_acc: 0.9091\n",
      "Epoch 24/50\n",
      "94/94 [==============================] - 0s 978us/step - loss: 0.2135 - acc: 0.9681 - val_loss: 0.3584 - val_acc: 0.7273\n",
      "Epoch 25/50\n",
      "94/94 [==============================] - 0s 935us/step - loss: 0.1997 - acc: 0.9574 - val_loss: 0.2959 - val_acc: 0.9091\n",
      "Epoch 26/50\n",
      "94/94 [==============================] - 0s 926us/step - loss: 0.2078 - acc: 0.9362 - val_loss: 0.3559 - val_acc: 0.7273\n",
      "Epoch 27/50\n",
      "94/94 [==============================] - 0s 930us/step - loss: 0.1838 - acc: 0.9574 - val_loss: 0.4747 - val_acc: 0.6364\n",
      "Epoch 28/50\n",
      "94/94 [==============================] - 0s 933us/step - loss: 0.1889 - acc: 0.9787 - val_loss: 0.3109 - val_acc: 0.8182\n",
      "Epoch 29/50\n",
      "94/94 [==============================] - 0s 935us/step - loss: 0.1759 - acc: 0.9894 - val_loss: 0.1814 - val_acc: 0.9091\n",
      "Epoch 30/50\n",
      "94/94 [==============================] - 0s 922us/step - loss: 0.1680 - acc: 0.9894 - val_loss: 0.1950 - val_acc: 0.9091\n",
      "Epoch 31/50\n",
      "94/94 [==============================] - 0s 947us/step - loss: 0.1594 - acc: 0.9681 - val_loss: 0.2751 - val_acc: 0.9091\n",
      "Epoch 32/50\n",
      "94/94 [==============================] - 0s 932us/step - loss: 0.1550 - acc: 0.9681 - val_loss: 0.2892 - val_acc: 0.8182\n",
      "Epoch 33/50\n",
      "94/94 [==============================] - 0s 939us/step - loss: 0.1523 - acc: 0.9681 - val_loss: 0.2801 - val_acc: 0.9091\n",
      "Epoch 34/50\n",
      "94/94 [==============================] - 0s 973us/step - loss: 0.1628 - acc: 0.9574 - val_loss: 0.2565 - val_acc: 0.9091\n",
      "Epoch 35/50\n",
      "94/94 [==============================] - 0s 925us/step - loss: 0.1350 - acc: 0.9787 - val_loss: 0.1339 - val_acc: 1.0000\n",
      "Epoch 36/50\n",
      "94/94 [==============================] - 0s 929us/step - loss: 0.1452 - acc: 0.9574 - val_loss: 0.2286 - val_acc: 0.9091\n",
      "Epoch 37/50\n",
      "94/94 [==============================] - 0s 931us/step - loss: 0.1358 - acc: 0.9681 - val_loss: 0.2258 - val_acc: 0.9091\n",
      "Epoch 38/50\n",
      "94/94 [==============================] - 0s 930us/step - loss: 0.1346 - acc: 0.9574 - val_loss: 0.1459 - val_acc: 0.9091\n",
      "Epoch 39/50\n",
      "94/94 [==============================] - 0s 929us/step - loss: 0.1225 - acc: 0.9681 - val_loss: 0.2785 - val_acc: 0.9091\n",
      "Epoch 40/50\n",
      "94/94 [==============================] - 0s 927us/step - loss: 0.1272 - acc: 0.9681 - val_loss: 0.4188 - val_acc: 0.7273\n",
      "Epoch 41/50\n",
      "94/94 [==============================] - 0s 932us/step - loss: 0.1247 - acc: 0.9787 - val_loss: 0.2206 - val_acc: 0.9091\n",
      "Epoch 42/50\n",
      "94/94 [==============================] - 0s 927us/step - loss: 0.1217 - acc: 0.9681 - val_loss: 0.1980 - val_acc: 0.9091\n",
      "Epoch 43/50\n",
      "94/94 [==============================] - 0s 935us/step - loss: 0.1192 - acc: 0.9787 - val_loss: 0.2309 - val_acc: 0.9091\n",
      "Epoch 44/50\n",
      "94/94 [==============================] - 0s 968us/step - loss: 0.1182 - acc: 0.9681 - val_loss: 0.2750 - val_acc: 0.9091\n",
      "Epoch 45/50\n",
      "94/94 [==============================] - 0s 927us/step - loss: 0.1197 - acc: 0.9787 - val_loss: 0.3064 - val_acc: 0.8182\n",
      "Epoch 46/50\n",
      "94/94 [==============================] - 0s 926us/step - loss: 0.1250 - acc: 0.9681 - val_loss: 0.3159 - val_acc: 0.8182\n",
      "Epoch 47/50\n",
      "94/94 [==============================] - 0s 929us/step - loss: 0.1269 - acc: 0.9681 - val_loss: 0.1997 - val_acc: 0.9091\n",
      "Epoch 48/50\n",
      "94/94 [==============================] - 0s 937us/step - loss: 0.1186 - acc: 0.9681 - val_loss: 0.3418 - val_acc: 0.8182\n",
      "Epoch 49/50\n",
      "94/94 [==============================] - 0s 930us/step - loss: 0.1288 - acc: 0.9468 - val_loss: 0.1827 - val_acc: 0.9091\n",
      "Epoch 50/50\n",
      "94/94 [==============================] - 0s 923us/step - loss: 0.0993 - acc: 0.9681 - val_loss: 0.3185 - val_acc: 0.8182\n"
     ]
    }
   ],
   "source": [
    "# 編譯模型\n",
    "optim = Adam(lr=0.001)\n",
    "model.compile(loss='categorical_crossentropy',\n",
    "              optimizer=optim,\n",
    "              metrics=['acc'])\n",
    "\n",
    "batch_size=1\n",
    "epochs = 50\n",
    "\n",
    "# 訓練模型\n",
    "history = model.fit(X_train, y_train,\n",
    "                    batch_size=batch_size,\n",
    "                    epochs=epochs,\n",
    "                    verbose=1,\n",
    "                    shuffle=True,\n",
    "                    validation_split=0.1)\n"
   ]
  },
  {
   "cell_type": "markdown",
   "metadata": {},
   "source": [
    "## 6) 觀察訓練結果"
   ]
  },
  {
   "cell_type": "code",
   "execution_count": 35,
   "metadata": {},
   "outputs": [],
   "source": [
    "import matplotlib.pyplot as plt\n",
    "\n",
    "history_dict = history.history\n",
    "history_dict.keys()\n",
    "acc = history_dict['acc']\n",
    "val_acc = history_dict['val_acc']\n",
    "loss = history_dict['loss']\n",
    "val_loss = history_dict['val_loss']\n",
    "epochs_ = range(1,len(acc)+1)"
   ]
  },
  {
   "cell_type": "code",
   "execution_count": 36,
   "metadata": {},
   "outputs": [
    {
     "data": {
      "image/png": "[encoded data removed]",
      "text/plain": [
       "<Figure size 432x288 with 1 Axes>"
      ]
     },
     "metadata": {
      "needs_background": "light"
     },
     "output_type": "display_data"
    }
   ],
   "source": [
    "plt.plot(epochs_ , loss , label = 'training loss')\n",
    "plt.plot(epochs_ , val_loss , label = 'val los')\n",
    "plt.title('training and val loss')\n",
    "plt.xlabel('epochs')\n",
    "plt.ylabel('loss')\n",
    "plt.legend()\n",
    "plt.show()"
   ]
  },
  {
   "cell_type": "code",
   "execution_count": 37,
   "metadata": {},
   "outputs": [
    {
     "data": {
      "image/png": "[encoded data removed]",
      "text/plain": [
       "<Figure size 432x288 with 1 Axes>"
      ]
     },
     "metadata": {
      "needs_background": "light"
     },
     "output_type": "display_data"
    }
   ],
   "source": [
    "plt.clf()\n",
    "plt.plot(epochs_ , acc , label='train accuracy')\n",
    "plt.plot(epochs_ , val_acc , label = 'val accuracy')\n",
    "plt.title('train and val acc')\n",
    "plt.xlabel('epochs')\n",
    "plt.ylabel('acc')\n",
    "plt.legend()\n",
    "plt.show()"
   ]
  },
  {
   "cell_type": "markdown",
   "metadata": {},
   "source": [
    "## 測試"
   ]
  },
  {
   "cell_type": "code",
   "execution_count": 38,
   "metadata": {},
   "outputs": [
    {
     "name": "stdout",
     "output_type": "stream",
     "text": [
      "0.9666666666666667\n"
     ]
    }
   ],
   "source": [
    "from sklearn.metrics import accuracy_score\n",
    "label=np.argmax(y,axis=1)\n",
    "pred =  np.argmax(model.predict(X), axis=1)\n",
    "print(accuracy_score(label, pred))"
   ]
  },
  {
   "cell_type": "code",
   "execution_count": null,
   "metadata": {},
   "outputs": [],
   "source": []
  }
 ],
 "metadata": {
  "kernelspec": {
   "display_name": "Python 3",
   "language": "python",
   "name": "python3"
  },
  "language_info": {
   "codemirror_mode": {
    "name": "ipython",
    "version": 3
   },
   "file_extension": ".py",
   "mimetype": "text/x-python",
   "name": "python",
   "nbconvert_exporter": "python",
   "pygments_lexer": "ipython3",
   "version": "3.7.3"
  }
 },
 "nbformat": 4,
 "nbformat_minor": 4
}
